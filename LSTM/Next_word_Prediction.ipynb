{
  "nbformat": 4,
  "nbformat_minor": 0,
  "metadata": {
    "colab": {
      "name": "Next-word-Prediction.ipynb",
      "provenance": [],
      "collapsed_sections": []
    },
    "kernelspec": {
      "name": "python3",
      "display_name": "Python 3"
    },
    "language_info": {
      "name": "python"
    },
    "accelerator": "GPU"
  },
  "cells": [
    {
      "cell_type": "code",
      "execution_count": 7,
      "metadata": {
        "id": "8G-b9LyrOXGb"
      },
      "outputs": [],
      "source": [
        "import tensorflow as tf\n",
        "from tensorflow.keras.preprocessing.text import Tokenizer\n",
        "from tensorflow.keras.layers import Embedding,LSTM,Dense\n",
        "from tensorflow.keras.models import Sequential\n",
        "from tensorflow.keras.utils import to_categorical\n",
        "from tensorflow.keras.optimizers import Adam\n",
        "import pickle\n",
        "import numpy as np\n",
        "import os\n",
        "\n"
      ]
    },
    {
      "cell_type": "code",
      "source": [
        "# loading file\n",
        "from google.colab import files\n",
        "uploaded = files.upload()"
      ],
      "metadata": {
        "colab": {
          "resources": {
            "http://localhost:8080/nbextensions/google.colab/files.js": {
              "data": "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",
              "ok": true,
              "headers": [
                [
                  "content-type",
                  "application/javascript"
                ]
              ],
              "status": 200,
              "status_text": ""
            }
          },
          "base_uri": "https://localhost:8080/",
          "height": 74
        },
        "id": "iIBLt2UiPVtP",
        "outputId": "a911802f-2d2b-47ac-9203-d220bdcb0d8b"
      },
      "execution_count": 8,
      "outputs": [
        {
          "output_type": "display_data",
          "data": {
            "text/html": [
              "\n",
              "     <input type=\"file\" id=\"files-1696c619-2d0b-4009-925c-6c1914727000\" name=\"files[]\" multiple disabled\n",
              "        style=\"border:none\" />\n",
              "     <output id=\"result-1696c619-2d0b-4009-925c-6c1914727000\">\n",
              "      Upload widget is only available when the cell has been executed in the\n",
              "      current browser session. Please rerun this cell to enable.\n",
              "      </output>\n",
              "      <script src=\"/nbextensions/google.colab/files.js\"></script> "
            ],
            "text/plain": [
              "<IPython.core.display.HTML object>"
            ]
          },
          "metadata": {}
        },
        {
          "output_type": "stream",
          "name": "stdout",
          "text": [
            "Saving PrideAndPrejudice.txt to PrideAndPrejudice (1).txt\n"
          ]
        }
      ]
    },
    {
      "cell_type": "code",
      "source": [
        "# open file\n",
        "file = open(\"PrideAndPrejudice.txt\",\"r\", encoding=\"utf8\")\n",
        "\n",
        "# store file in a list\n",
        "lines = []\n",
        "for i in file:\n",
        "  lines.append(i)\n",
        "\n",
        "\n",
        "\n",
        "# Now convert this list to string\n",
        "data = \"\"\n",
        "for i in lines:\n",
        "  data = ' '.join(lines)\n",
        "\n",
        "\n",
        "#replace unnecessary stuff with space\n",
        "data = data.replace('\\n', '').replace('\\r', '').replace('\\ufeff', '').replace('“','').replace('”','')  #new line, carriage return, unicode character --> replace by space\n",
        "\n",
        "\n",
        "# remove  unnecessary spaces\n",
        "data = data.split()\n",
        "data = ' '.join(data)\n",
        "data[:500]"
      ],
      "metadata": {
        "colab": {
          "base_uri": "https://localhost:8080/",
          "height": 73
        },
        "id": "OR2P0IphRTpR",
        "outputId": "8fecd074-08eb-4f23-90cf-accbf934d51f"
      },
      "execution_count": 13,
      "outputs": [
        {
          "output_type": "execute_result",
          "data": {
            "application/vnd.google.colaboratory.intrinsic+json": {
              "type": "string"
            },
            "text/plain": [
              "'The Project Gutenberg eBook of Pride and Prejudice, by Jane Austen This eBook is for the use of anyone anywhere in the United States and most other parts of the world at no cost and with almost no restrictions whatsoever. You may copy it, give it away or re-use it under the terms of the Project Gutenberg License included with this eBook or online at www.gutenberg.org. If you are not located in the United States, you will have to check the laws of the country where you are located before using th'"
            ]
          },
          "metadata": {},
          "execution_count": 13
        }
      ]
    },
    {
      "cell_type": "code",
      "source": [
        "len(data)"
      ],
      "metadata": {
        "colab": {
          "base_uri": "https://localhost:8080/"
        },
        "id": "v-TRmZ8SSNMH",
        "outputId": "42154384-2e47-4d1b-f418-6833b0ddec39"
      },
      "execution_count": 14,
      "outputs": [
        {
          "output_type": "execute_result",
          "data": {
            "text/plain": [
              "698418"
            ]
          },
          "metadata": {},
          "execution_count": 14
        }
      ]
    },
    {
      "cell_type": "code",
      "source": [
        "from typing import Sequence\n",
        "tokenizer=Tokenizer()\n",
        "tokenizer.fit_on_texts([data])\n",
        "\n",
        "\n",
        "pickle.dump(tokenizer, open('token.pkl','wb'))\n",
        "\n",
        "sequence_data=tokenizer.texts_to_sequences([data])[0]\n",
        "sequence_data[:15]"
      ],
      "metadata": {
        "colab": {
          "base_uri": "https://localhost:8080/"
        },
        "id": "t1f5qjC7SQpM",
        "outputId": "f744035e-c947-4f7a-cfa7-516b1b04303d"
      },
      "execution_count": 16,
      "outputs": [
        {
          "output_type": "execute_result",
          "data": {
            "text/plain": [
              "[1, 176, 158, 916, 3, 321, 4, 1171, 30, 72, 2534, 41, 916, 23, 21]"
            ]
          },
          "metadata": {},
          "execution_count": 16
        }
      ]
    },
    {
      "cell_type": "code",
      "source": [
        "len(sequence_data)"
      ],
      "metadata": {
        "colab": {
          "base_uri": "https://localhost:8080/"
        },
        "id": "cJRPnJ_FVEz4",
        "outputId": "99a07cbf-267d-4a65-f75f-c6cb0c18ec70"
      },
      "execution_count": 17,
      "outputs": [
        {
          "output_type": "execute_result",
          "data": {
            "text/plain": [
              "125309"
            ]
          },
          "metadata": {},
          "execution_count": 17
        }
      ]
    },
    {
      "cell_type": "code",
      "source": [
        "vocab_size=len(tokenizer.word_index)+1\n",
        "print(vocab_size)"
      ],
      "metadata": {
        "colab": {
          "base_uri": "https://localhost:8080/"
        },
        "id": "csa1qEi0VOVO",
        "outputId": "1a4ae475-5ecd-487c-e299-8691b6b4dc7b"
      },
      "execution_count": 18,
      "outputs": [
        {
          "output_type": "stream",
          "name": "stdout",
          "text": [
            "7030\n"
          ]
        }
      ]
    },
    {
      "cell_type": "code",
      "source": [
        "sequences = []\n",
        "\n",
        "for i in range(3,len(sequence_data)):\n",
        "  words=sequence_data[i-3:i+1]\n",
        "  sequences.append(words)\n",
        "\n",
        "\n",
        "print(\"Length of Sequence are: \", len(sequences))\n",
        "sequences = np.array(sequences)\n",
        "sequences[:10]\n"
      ],
      "metadata": {
        "colab": {
          "base_uri": "https://localhost:8080/"
        },
        "id": "bWAKkchmVf2p",
        "outputId": "8f699771-83ca-49be-dcd9-ba1d68b365dd"
      },
      "execution_count": 20,
      "outputs": [
        {
          "output_type": "stream",
          "name": "stdout",
          "text": [
            "Length of Sequence are:  125306\n"
          ]
        },
        {
          "output_type": "execute_result",
          "data": {
            "text/plain": [
              "array([[   1,  176,  158,  916],\n",
              "       [ 176,  158,  916,    3],\n",
              "       [ 158,  916,    3,  321],\n",
              "       [ 916,    3,  321,    4],\n",
              "       [   3,  321,    4, 1171],\n",
              "       [ 321,    4, 1171,   30],\n",
              "       [   4, 1171,   30,   72],\n",
              "       [1171,   30,   72, 2534],\n",
              "       [  30,   72, 2534,   41],\n",
              "       [  72, 2534,   41,  916]])"
            ]
          },
          "metadata": {},
          "execution_count": 20
        }
      ]
    },
    {
      "cell_type": "code",
      "source": [
        "x = []\n",
        "y = []\n",
        "\n",
        "for i in sequences:\n",
        "  x.append(i[0:3])\n",
        "  y.append(i[3])\n",
        "\n",
        "x = np.array(x)\n",
        "y = np.array(y)"
      ],
      "metadata": {
        "id": "ymHa1r5VWVK7"
      },
      "execution_count": 21,
      "outputs": []
    },
    {
      "cell_type": "code",
      "source": [
        "print(\"Data\", x[:10])\n",
        "print(\"Response\", y[:10])"
      ],
      "metadata": {
        "colab": {
          "base_uri": "https://localhost:8080/"
        },
        "id": "F3hE4pRrW9IG",
        "outputId": "5fff3259-550f-44bd-a481-8f283bee3a50"
      },
      "execution_count": 22,
      "outputs": [
        {
          "output_type": "stream",
          "name": "stdout",
          "text": [
            "Data [[   1  176  158]\n",
            " [ 176  158  916]\n",
            " [ 158  916    3]\n",
            " [ 916    3  321]\n",
            " [   3  321    4]\n",
            " [ 321    4 1171]\n",
            " [   4 1171   30]\n",
            " [1171   30   72]\n",
            " [  30   72 2534]\n",
            " [  72 2534   41]]\n",
            "Response [ 916    3  321    4 1171   30   72 2534   41  916]\n"
          ]
        }
      ]
    },
    {
      "cell_type": "code",
      "source": [
        "y=to_categorical(y,num_classes=vocab_size)\n",
        "y[:5]"
      ],
      "metadata": {
        "colab": {
          "base_uri": "https://localhost:8080/"
        },
        "id": "Fu-CzB7LXJ6H",
        "outputId": "201cde0c-8a55-40ad-c2ef-cf41a2d66603"
      },
      "execution_count": 24,
      "outputs": [
        {
          "output_type": "execute_result",
          "data": {
            "text/plain": [
              "array([[0., 0., 0., ..., 0., 0., 0.],\n",
              "       [0., 0., 0., ..., 0., 0., 0.],\n",
              "       [0., 0., 0., ..., 0., 0., 0.],\n",
              "       [0., 0., 0., ..., 0., 0., 0.],\n",
              "       [0., 0., 0., ..., 0., 0., 0.]], dtype=float32)"
            ]
          },
          "metadata": {},
          "execution_count": 24
        }
      ]
    },
    {
      "cell_type": "code",
      "source": [
        "# Creating a model\n",
        "model =Sequential()\n",
        "model.add(Embedding(vocab_size, 10, input_length=3))\n",
        "model.add(LSTM(1000,return_sequences=True))\n",
        "model.add(LSTM(1000))\n",
        "model.add(Dense(1000,activation=\"relu\"))\n",
        "model.add(Dense(vocab_size,activation=\"softmax\"))\n",
        "\n"
      ],
      "metadata": {
        "id": "MOpjfrSuXeIZ"
      },
      "execution_count": 34,
      "outputs": []
    },
    {
      "cell_type": "code",
      "source": [
        "model.summary()"
      ],
      "metadata": {
        "colab": {
          "base_uri": "https://localhost:8080/"
        },
        "id": "mUNCmK5XZGuK",
        "outputId": "731134c6-8b0b-40c1-ee2c-6f00ac32169d"
      },
      "execution_count": 35,
      "outputs": [
        {
          "output_type": "stream",
          "name": "stdout",
          "text": [
            "Model: \"sequential_3\"\n",
            "_________________________________________________________________\n",
            " Layer (type)                Output Shape              Param #   \n",
            "=================================================================\n",
            " embedding_3 (Embedding)     (None, 3, 10)             70300     \n",
            "                                                                 \n",
            " lstm_4 (LSTM)               (None, 3, 1000)           4044000   \n",
            "                                                                 \n",
            " lstm_5 (LSTM)               (None, 1000)              8004000   \n",
            "                                                                 \n",
            " dense_4 (Dense)             (None, 1000)              1001000   \n",
            "                                                                 \n",
            " dense_5 (Dense)             (None, 7030)              7037030   \n",
            "                                                                 \n",
            "=================================================================\n",
            "Total params: 20,156,330\n",
            "Trainable params: 20,156,330\n",
            "Non-trainable params: 0\n",
            "_________________________________________________________________\n"
          ]
        }
      ]
    },
    {
      "cell_type": "code",
      "source": [
        "# Plot the model\n",
        "from tensorflow import keras\n",
        "from keras.utils.vis_utils import plot_model\n",
        "\n",
        "keras.utils.plot_model(model,to_file='plot.png',show_layer_names=True)"
      ],
      "metadata": {
        "colab": {
          "base_uri": "https://localhost:8080/",
          "height": 564
        },
        "id": "dgszrRu1amHH",
        "outputId": "9f0b0285-dd1f-48f9-d035-b699f7daa03e"
      },
      "execution_count": 37,
      "outputs": [
        {
          "output_type": "execute_result",
          "data": {
            "image/png": "[encoded data removed]",
            "text/plain": [
              "<IPython.core.display.Image object>"
            ]
          },
          "metadata": {},
          "execution_count": 37
        }
      ]
    },
    {
      "cell_type": "code",
      "source": [
        "from tensorflow.keras import optimizers\n",
        "# training model\n",
        "\n",
        "from tensorflow.keras.callbacks import ModelCheckpoint\n",
        "checkpoint = ModelCheckpoint(\"next_words.h5\",monitor='loss', verbose=1, save_best_only=True)\n",
        "model.compile(loss=\"categorical_crossentropy\",optimizer=Adam(learning_rate=0.001))\n",
        "model.fit(x,y,epochs=70,batch_size=64,callbacks=[checkpoint])"
      ],
      "metadata": {
        "colab": {
          "base_uri": "https://localhost:8080/"
        },
        "id": "Ew5oLVCWbSCC",
        "outputId": "4ff92038-3b9f-4526-902c-2ec368ff6623"
      },
      "execution_count": 40,
      "outputs": [
        {
          "output_type": "stream",
          "name": "stdout",
          "text": [
            "Epoch 1/70\n",
            "1958/1958 [==============================] - ETA: 0s - loss: 6.2298\n",
            "Epoch 00001: loss improved from inf to 6.22985, saving model to next_words.h5\n",
            "1958/1958 [==============================] - 70s 33ms/step - loss: 6.2298\n",
            "Epoch 2/70\n",
            "1957/1958 [============================>.] - ETA: 0s - loss: 5.6227\n",
            "Epoch 00002: loss improved from 6.22985 to 5.62264, saving model to next_words.h5\n",
            "1958/1958 [==============================] - 64s 32ms/step - loss: 5.6226\n",
            "Epoch 3/70\n",
            "1957/1958 [============================>.] - ETA: 0s - loss: 5.3079\n",
            "Epoch 00003: loss improved from 5.62264 to 5.30796, saving model to next_words.h5\n",
            "1958/1958 [==============================] - 64s 33ms/step - loss: 5.3080\n",
            "Epoch 4/70\n",
            "1957/1958 [============================>.] - ETA: 0s - loss: 5.0838\n",
            "Epoch 00004: loss improved from 5.30796 to 5.08389, saving model to next_words.h5\n",
            "1958/1958 [==============================] - 64s 32ms/step - loss: 5.0839\n",
            "Epoch 5/70\n",
            "1957/1958 [============================>.] - ETA: 0s - loss: 4.8847\n",
            "Epoch 00005: loss improved from 5.08389 to 4.88459, saving model to next_words.h5\n",
            "1958/1958 [==============================] - 63s 32ms/step - loss: 4.8846\n",
            "Epoch 6/70\n",
            "1957/1958 [============================>.] - ETA: 0s - loss: 4.6924\n",
            "Epoch 00006: loss improved from 4.88459 to 4.69225, saving model to next_words.h5\n",
            "1958/1958 [==============================] - 64s 33ms/step - loss: 4.6922\n",
            "Epoch 7/70\n",
            "1957/1958 [============================>.] - ETA: 0s - loss: 4.5026\n",
            "Epoch 00007: loss improved from 4.69225 to 4.50263, saving model to next_words.h5\n",
            "1958/1958 [==============================] - 63s 32ms/step - loss: 4.5026\n",
            "Epoch 8/70\n",
            "1957/1958 [============================>.] - ETA: 0s - loss: 4.3131\n",
            "Epoch 00008: loss improved from 4.50263 to 4.31315, saving model to next_words.h5\n",
            "1958/1958 [==============================] - 63s 32ms/step - loss: 4.3132\n",
            "Epoch 9/70\n",
            "1957/1958 [============================>.] - ETA: 0s - loss: 4.1234\n",
            "Epoch 00009: loss improved from 4.31315 to 4.12354, saving model to next_words.h5\n",
            "1958/1958 [==============================] - 63s 32ms/step - loss: 4.1235\n",
            "Epoch 10/70\n",
            "1958/1958 [==============================] - ETA: 0s - loss: 3.9251\n",
            "Epoch 00010: loss improved from 4.12354 to 3.92510, saving model to next_words.h5\n",
            "1958/1958 [==============================] - 64s 32ms/step - loss: 3.9251\n",
            "Epoch 11/70\n",
            "1957/1958 [============================>.] - ETA: 0s - loss: 3.7237\n",
            "Epoch 00011: loss improved from 3.92510 to 3.72382, saving model to next_words.h5\n",
            "1958/1958 [==============================] - 63s 32ms/step - loss: 3.7238\n",
            "Epoch 12/70\n",
            "1957/1958 [============================>.] - ETA: 0s - loss: 3.5161\n",
            "Epoch 00012: loss improved from 3.72382 to 3.51601, saving model to next_words.h5\n",
            "1958/1958 [==============================] - 63s 32ms/step - loss: 3.5160\n",
            "Epoch 13/70\n",
            "1957/1958 [============================>.] - ETA: 0s - loss: 3.3054\n",
            "Epoch 00013: loss improved from 3.51601 to 3.30563, saving model to next_words.h5\n",
            "1958/1958 [==============================] - 63s 32ms/step - loss: 3.3056\n",
            "Epoch 14/70\n",
            "1957/1958 [============================>.] - ETA: 0s - loss: 3.0878\n",
            "Epoch 00014: loss improved from 3.30563 to 3.08767, saving model to next_words.h5\n",
            "1958/1958 [==============================] - 63s 32ms/step - loss: 3.0877\n",
            "Epoch 15/70\n",
            "1958/1958 [==============================] - ETA: 0s - loss: 2.8688\n",
            "Epoch 00015: loss improved from 3.08767 to 2.86878, saving model to next_words.h5\n",
            "1958/1958 [==============================] - 64s 32ms/step - loss: 2.8688\n",
            "Epoch 16/70\n",
            "1957/1958 [============================>.] - ETA: 0s - loss: 2.6340\n",
            "Epoch 00016: loss improved from 2.86878 to 2.63403, saving model to next_words.h5\n",
            "1958/1958 [==============================] - 63s 32ms/step - loss: 2.6340\n",
            "Epoch 17/70\n",
            "1957/1958 [============================>.] - ETA: 0s - loss: 2.4065\n",
            "Epoch 00017: loss improved from 2.63403 to 2.40642, saving model to next_words.h5\n",
            "1958/1958 [==============================] - 63s 32ms/step - loss: 2.4064\n",
            "Epoch 18/70\n",
            "1957/1958 [============================>.] - ETA: 0s - loss: 2.1716\n",
            "Epoch 00018: loss improved from 2.40642 to 2.17180, saving model to next_words.h5\n",
            "1958/1958 [==============================] - 64s 33ms/step - loss: 2.1718\n",
            "Epoch 19/70\n",
            "1958/1958 [==============================] - ETA: 0s - loss: 1.9530\n",
            "Epoch 00019: loss improved from 2.17180 to 1.95295, saving model to next_words.h5\n",
            "1958/1958 [==============================] - 63s 32ms/step - loss: 1.9530\n",
            "Epoch 20/70\n",
            "1957/1958 [============================>.] - ETA: 0s - loss: 1.7487\n",
            "Epoch 00020: loss improved from 1.95295 to 1.74888, saving model to next_words.h5\n",
            "1958/1958 [==============================] - 63s 32ms/step - loss: 1.7489\n",
            "Epoch 21/70\n",
            "1957/1958 [============================>.] - ETA: 0s - loss: 1.5634\n",
            "Epoch 00021: loss improved from 1.74888 to 1.56367, saving model to next_words.h5\n",
            "1958/1958 [==============================] - 63s 32ms/step - loss: 1.5637\n",
            "Epoch 22/70\n",
            "1957/1958 [============================>.] - ETA: 0s - loss: 1.3964\n",
            "Epoch 00022: loss improved from 1.56367 to 1.39663, saving model to next_words.h5\n",
            "1958/1958 [==============================] - 63s 32ms/step - loss: 1.3966\n",
            "Epoch 23/70\n",
            "1958/1958 [==============================] - ETA: 0s - loss: 1.2596\n",
            "Epoch 00023: loss improved from 1.39663 to 1.25960, saving model to next_words.h5\n",
            "1958/1958 [==============================] - 63s 32ms/step - loss: 1.2596\n",
            "Epoch 24/70\n",
            "1958/1958 [==============================] - ETA: 0s - loss: 1.1383\n",
            "Epoch 00024: loss improved from 1.25960 to 1.13829, saving model to next_words.h5\n",
            "1958/1958 [==============================] - 64s 32ms/step - loss: 1.1383\n",
            "Epoch 25/70\n",
            "1958/1958 [==============================] - ETA: 0s - loss: 1.0452\n",
            "Epoch 00025: loss improved from 1.13829 to 1.04517, saving model to next_words.h5\n",
            "1958/1958 [==============================] - 64s 33ms/step - loss: 1.0452\n",
            "Epoch 26/70\n",
            "1957/1958 [============================>.] - ETA: 0s - loss: 0.9629\n",
            "Epoch 00026: loss improved from 1.04517 to 0.96295, saving model to next_words.h5\n",
            "1958/1958 [==============================] - 64s 33ms/step - loss: 0.9630\n",
            "Epoch 27/70\n",
            "1957/1958 [============================>.] - ETA: 0s - loss: 0.8993\n",
            "Epoch 00027: loss improved from 0.96295 to 0.89914, saving model to next_words.h5\n",
            "1958/1958 [==============================] - 63s 32ms/step - loss: 0.8991\n",
            "Epoch 28/70\n",
            "1957/1958 [============================>.] - ETA: 0s - loss: 0.8508\n",
            "Epoch 00028: loss improved from 0.89914 to 0.85089, saving model to next_words.h5\n",
            "1958/1958 [==============================] - 64s 33ms/step - loss: 0.8509\n",
            "Epoch 29/70\n",
            "1957/1958 [============================>.] - ETA: 0s - loss: 0.8062\n",
            "Epoch 00029: loss improved from 0.85089 to 0.80627, saving model to next_words.h5\n",
            "1958/1958 [==============================] - 64s 33ms/step - loss: 0.8063\n",
            "Epoch 30/70\n",
            "1957/1958 [============================>.] - ETA: 0s - loss: 0.7666\n",
            "Epoch 00030: loss improved from 0.80627 to 0.76679, saving model to next_words.h5\n",
            "1958/1958 [==============================] - 64s 33ms/step - loss: 0.7668\n",
            "Epoch 31/70\n",
            "1957/1958 [============================>.] - ETA: 0s - loss: 0.7441\n",
            "Epoch 00031: loss improved from 0.76679 to 0.74421, saving model to next_words.h5\n",
            "1958/1958 [==============================] - 64s 33ms/step - loss: 0.7442\n",
            "Epoch 32/70\n",
            "1958/1958 [==============================] - ETA: 0s - loss: 0.7137\n",
            "Epoch 00032: loss improved from 0.74421 to 0.71367, saving model to next_words.h5\n",
            "1958/1958 [==============================] - 63s 32ms/step - loss: 0.7137\n",
            "Epoch 33/70\n",
            "1958/1958 [==============================] - ETA: 0s - loss: 0.6934\n",
            "Epoch 00033: loss improved from 0.71367 to 0.69338, saving model to next_words.h5\n",
            "1958/1958 [==============================] - 64s 33ms/step - loss: 0.6934\n",
            "Epoch 34/70\n",
            "1958/1958 [==============================] - ETA: 0s - loss: 0.6771\n",
            "Epoch 00034: loss improved from 0.69338 to 0.67706, saving model to next_words.h5\n",
            "1958/1958 [==============================] - 63s 32ms/step - loss: 0.6771\n",
            "Epoch 35/70\n",
            "1957/1958 [============================>.] - ETA: 0s - loss: 0.6591\n",
            "Epoch 00035: loss improved from 0.67706 to 0.65922, saving model to next_words.h5\n",
            "1958/1958 [==============================] - 63s 32ms/step - loss: 0.6592\n",
            "Epoch 36/70\n",
            "1957/1958 [============================>.] - ETA: 0s - loss: 0.6431\n",
            "Epoch 00036: loss improved from 0.65922 to 0.64320, saving model to next_words.h5\n",
            "1958/1958 [==============================] - 63s 32ms/step - loss: 0.6432\n",
            "Epoch 37/70\n",
            "1957/1958 [============================>.] - ETA: 0s - loss: 0.6305\n",
            "Epoch 00037: loss improved from 0.64320 to 0.63061, saving model to next_words.h5\n",
            "1958/1958 [==============================] - 64s 33ms/step - loss: 0.6306\n",
            "Epoch 38/70\n",
            "1957/1958 [============================>.] - ETA: 0s - loss: 0.6123\n",
            "Epoch 00038: loss improved from 0.63061 to 0.61227, saving model to next_words.h5\n",
            "1958/1958 [==============================] - 64s 33ms/step - loss: 0.6123\n",
            "Epoch 39/70\n",
            "1957/1958 [============================>.] - ETA: 0s - loss: 0.6022\n",
            "Epoch 00039: loss improved from 0.61227 to 0.60219, saving model to next_words.h5\n",
            "1958/1958 [==============================] - 63s 32ms/step - loss: 0.6022\n",
            "Epoch 40/70\n",
            "1957/1958 [============================>.] - ETA: 0s - loss: 0.5936\n",
            "Epoch 00040: loss improved from 0.60219 to 0.59354, saving model to next_words.h5\n",
            "1958/1958 [==============================] - 63s 32ms/step - loss: 0.5935\n",
            "Epoch 41/70\n",
            "1958/1958 [==============================] - ETA: 0s - loss: 0.5810\n",
            "Epoch 00041: loss improved from 0.59354 to 0.58104, saving model to next_words.h5\n",
            "1958/1958 [==============================] - 64s 33ms/step - loss: 0.5810\n",
            "Epoch 42/70\n",
            "1957/1958 [============================>.] - ETA: 0s - loss: 0.5736\n",
            "Epoch 00042: loss improved from 0.58104 to 0.57365, saving model to next_words.h5\n",
            "1958/1958 [==============================] - 64s 33ms/step - loss: 0.5737\n",
            "Epoch 43/70\n",
            "1957/1958 [============================>.] - ETA: 0s - loss: 0.5617\n",
            "Epoch 00043: loss improved from 0.57365 to 0.56188, saving model to next_words.h5\n",
            "1958/1958 [==============================] - 64s 32ms/step - loss: 0.5619\n",
            "Epoch 44/70\n",
            "1957/1958 [============================>.] - ETA: 0s - loss: 0.5586\n",
            "Epoch 00044: loss improved from 0.56188 to 0.55873, saving model to next_words.h5\n",
            "1958/1958 [==============================] - 64s 32ms/step - loss: 0.5587\n",
            "Epoch 45/70\n",
            "1958/1958 [==============================] - ETA: 0s - loss: 0.5471\n",
            "Epoch 00045: loss improved from 0.55873 to 0.54711, saving model to next_words.h5\n",
            "1958/1958 [==============================] - 64s 33ms/step - loss: 0.5471\n",
            "Epoch 46/70\n",
            "1958/1958 [==============================] - ETA: 0s - loss: 0.5406\n",
            "Epoch 00046: loss improved from 0.54711 to 0.54062, saving model to next_words.h5\n",
            "1958/1958 [==============================] - 64s 33ms/step - loss: 0.5406\n",
            "Epoch 47/70\n",
            "1957/1958 [============================>.] - ETA: 0s - loss: 0.5361\n",
            "Epoch 00047: loss improved from 0.54062 to 0.53620, saving model to next_words.h5\n",
            "1958/1958 [==============================] - 64s 32ms/step - loss: 0.5362\n",
            "Epoch 48/70\n",
            "1957/1958 [============================>.] - ETA: 0s - loss: 0.5286\n",
            "Epoch 00048: loss improved from 0.53620 to 0.52869, saving model to next_words.h5\n",
            "1958/1958 [==============================] - 63s 32ms/step - loss: 0.5287\n",
            "Epoch 49/70\n",
            "1958/1958 [==============================] - ETA: 0s - loss: 0.5219\n",
            "Epoch 00049: loss improved from 0.52869 to 0.52188, saving model to next_words.h5\n",
            "1958/1958 [==============================] - 64s 33ms/step - loss: 0.5219\n",
            "Epoch 50/70\n",
            "1958/1958 [==============================] - ETA: 0s - loss: 0.5140\n",
            "Epoch 00050: loss improved from 0.52188 to 0.51403, saving model to next_words.h5\n",
            "1958/1958 [==============================] - 64s 33ms/step - loss: 0.5140\n",
            "Epoch 51/70\n",
            "1957/1958 [============================>.] - ETA: 0s - loss: 0.5125\n",
            "Epoch 00051: loss improved from 0.51403 to 0.51253, saving model to next_words.h5\n",
            "1958/1958 [==============================] - 64s 33ms/step - loss: 0.5125\n",
            "Epoch 52/70\n",
            "1958/1958 [==============================] - ETA: 0s - loss: 0.5051\n",
            "Epoch 00052: loss improved from 0.51253 to 0.50512, saving model to next_words.h5\n",
            "1958/1958 [==============================] - 64s 33ms/step - loss: 0.5051\n",
            "Epoch 53/70\n",
            "1957/1958 [============================>.] - ETA: 0s - loss: 0.5035\n",
            "Epoch 00053: loss improved from 0.50512 to 0.50338, saving model to next_words.h5\n",
            "1958/1958 [==============================] - 64s 32ms/step - loss: 0.5034\n",
            "Epoch 54/70\n",
            "1957/1958 [============================>.] - ETA: 0s - loss: 0.4936\n",
            "Epoch 00054: loss improved from 0.50338 to 0.49373, saving model to next_words.h5\n",
            "1958/1958 [==============================] - 64s 32ms/step - loss: 0.4937\n",
            "Epoch 55/70\n",
            "1958/1958 [==============================] - ETA: 0s - loss: 0.4922\n",
            "Epoch 00055: loss improved from 0.49373 to 0.49219, saving model to next_words.h5\n",
            "1958/1958 [==============================] - 64s 33ms/step - loss: 0.4922\n",
            "Epoch 56/70\n",
            "1957/1958 [============================>.] - ETA: 0s - loss: 0.4863\n",
            "Epoch 00056: loss improved from 0.49219 to 0.48633, saving model to next_words.h5\n",
            "1958/1958 [==============================] - 64s 33ms/step - loss: 0.4863\n",
            "Epoch 57/70\n",
            "1958/1958 [==============================] - ETA: 0s - loss: 0.4859\n",
            "Epoch 00057: loss improved from 0.48633 to 0.48594, saving model to next_words.h5\n",
            "1958/1958 [==============================] - 64s 32ms/step - loss: 0.4859\n",
            "Epoch 58/70\n",
            "1957/1958 [============================>.] - ETA: 0s - loss: 0.4786\n",
            "Epoch 00058: loss improved from 0.48594 to 0.47859, saving model to next_words.h5\n",
            "1958/1958 [==============================] - 64s 33ms/step - loss: 0.4786\n",
            "Epoch 59/70\n",
            "1957/1958 [============================>.] - ETA: 0s - loss: 0.4764\n",
            "Epoch 00059: loss improved from 0.47859 to 0.47647, saving model to next_words.h5\n",
            "1958/1958 [==============================] - 63s 32ms/step - loss: 0.4765\n",
            "Epoch 60/70\n",
            "1957/1958 [============================>.] - ETA: 0s - loss: 0.4715\n",
            "Epoch 00060: loss improved from 0.47647 to 0.47161, saving model to next_words.h5\n",
            "1958/1958 [==============================] - 64s 33ms/step - loss: 0.4716\n",
            "Epoch 61/70\n",
            "1957/1958 [============================>.] - ETA: 0s - loss: 0.4686\n",
            "Epoch 00061: loss improved from 0.47161 to 0.46858, saving model to next_words.h5\n",
            "1958/1958 [==============================] - 64s 33ms/step - loss: 0.4686\n",
            "Epoch 62/70\n",
            "1957/1958 [============================>.] - ETA: 0s - loss: 0.4652\n",
            "Epoch 00062: loss improved from 0.46858 to 0.46519, saving model to next_words.h5\n",
            "1958/1958 [==============================] - 64s 33ms/step - loss: 0.4652\n",
            "Epoch 63/70\n",
            "1957/1958 [============================>.] - ETA: 0s - loss: 0.4644\n",
            "Epoch 00063: loss improved from 0.46519 to 0.46438, saving model to next_words.h5\n",
            "1958/1958 [==============================] - 64s 33ms/step - loss: 0.4644\n",
            "Epoch 64/70\n",
            "1957/1958 [============================>.] - ETA: 0s - loss: 0.4604\n",
            "Epoch 00064: loss improved from 0.46438 to 0.46042, saving model to next_words.h5\n",
            "1958/1958 [==============================] - 64s 33ms/step - loss: 0.4604\n",
            "Epoch 65/70\n",
            "1958/1958 [==============================] - ETA: 0s - loss: 0.4529\n",
            "Epoch 00065: loss improved from 0.46042 to 0.45295, saving model to next_words.h5\n",
            "1958/1958 [==============================] - 64s 33ms/step - loss: 0.4529\n",
            "Epoch 66/70\n",
            "1957/1958 [============================>.] - ETA: 0s - loss: 0.4561\n",
            "Epoch 00066: loss did not improve from 0.45295\n",
            "1958/1958 [==============================] - 63s 32ms/step - loss: 0.4561\n",
            "Epoch 67/70\n",
            "1957/1958 [============================>.] - ETA: 0s - loss: 0.4535\n",
            "Epoch 00067: loss did not improve from 0.45295\n",
            "1958/1958 [==============================] - 63s 32ms/step - loss: 0.4535\n",
            "Epoch 68/70\n",
            "1957/1958 [============================>.] - ETA: 0s - loss: 0.4470\n",
            "Epoch 00068: loss improved from 0.45295 to 0.44700, saving model to next_words.h5\n",
            "1958/1958 [==============================] - 64s 33ms/step - loss: 0.4470\n",
            "Epoch 69/70\n",
            "1958/1958 [==============================] - ETA: 0s - loss: 0.4495\n",
            "Epoch 00069: loss did not improve from 0.44700\n",
            "1958/1958 [==============================] - 63s 32ms/step - loss: 0.4495\n",
            "Epoch 70/70\n",
            "1957/1958 [============================>.] - ETA: 0s - loss: 0.4413\n",
            "Epoch 00070: loss improved from 0.44700 to 0.44132, saving model to next_words.h5\n",
            "1958/1958 [==============================] - 64s 33ms/step - loss: 0.4413\n"
          ]
        },
        {
          "output_type": "execute_result",
          "data": {
            "text/plain": [
              "<keras.callbacks.History at 0x7f346afa6c90>"
            ]
          },
          "metadata": {},
          "execution_count": 40
        }
      ]
    },
    {
      "cell_type": "code",
      "source": [
        "from tensorflow.keras.models import load_model\n",
        "import numpy as np\n",
        "import pickle"
      ],
      "metadata": {
        "id": "GKEv8w60cszA"
      },
      "execution_count": 41,
      "outputs": []
    },
    {
      "cell_type": "code",
      "source": [
        "# load model and tokenizer\n",
        "model = load_model('next_words.h5')\n",
        "tokenizer = pickle.load(open('token.pkl','rb'))\n",
        "\n",
        "def Predict_Next_Words(model, tokenizer,text):\n",
        "  sequence = tokenizer.texts_to_sequences([text])\n",
        "  sequence = np.array(sequence)\n",
        "  preds = np.argmax(model.predict(sequence))\n",
        "  predicted_word = \"\"\n",
        "\n",
        "\n",
        "  for key, value in tokenizer.word_index.items():\n",
        "    if value == preds:\n",
        "      predicted_word = key\n",
        "      break\n",
        "\n",
        "  print(predicted_word)\n",
        "  return predicted_word    \n"
      ],
      "metadata": {
        "id": "uzUkYkOEuOro"
      },
      "execution_count": 42,
      "outputs": []
    },
    {
      "cell_type": "code",
      "source": [
        "while(True):\n",
        "  text = input(\"ENter ur line: \")\n",
        "\n",
        "  if text == \"0\":\n",
        "    print(\"Execution completed...\")\n",
        "    break\n",
        "\n",
        "  else:\n",
        "     try:\n",
        "       text = text.split(\" \")\n",
        "       text = text[-3:]\n",
        "       print(text)\n",
        "\n",
        "       Predict_Next_Words(model, tokenizer, text)\n",
        "\n",
        "     except Exception as e:\n",
        "       print(\"Error occured: \", e)\n",
        "       continue    "
      ],
      "metadata": {
        "colab": {
          "base_uri": "https://localhost:8080/"
        },
        "id": "wvlmGAb5v_7R",
        "outputId": "e756fa6a-f318-47fd-e48b-104aba7b9f83"
      },
      "execution_count": null,
      "outputs": [
        {
          "output_type": "stream",
          "name": "stdout",
          "text": [
            "ENter ur line: The Project\n",
            "['The', 'Project']\n",
            "Error occured:  in user code:\n",
            "\n",
            "    File \"/usr/local/lib/python3.7/dist-packages/keras/engine/training.py\", line 1621, in predict_function  *\n",
            "        return step_function(self, iterator)\n",
            "    File \"/usr/local/lib/python3.7/dist-packages/keras/engine/training.py\", line 1611, in step_function  **\n",
            "        outputs = model.distribute_strategy.run(run_step, args=(data,))\n",
            "    File \"/usr/local/lib/python3.7/dist-packages/keras/engine/training.py\", line 1604, in run_step  **\n",
            "        outputs = model.predict_step(data)\n",
            "    File \"/usr/local/lib/python3.7/dist-packages/keras/engine/training.py\", line 1572, in predict_step\n",
            "        return self(x, training=False)\n",
            "    File \"/usr/local/lib/python3.7/dist-packages/keras/utils/traceback_utils.py\", line 67, in error_handler\n",
            "        raise e.with_traceback(filtered_tb) from None\n",
            "    File \"/usr/local/lib/python3.7/dist-packages/keras/engine/input_spec.py\", line 263, in assert_input_compatibility\n",
            "        raise ValueError(f'Input {input_index} of layer \"{layer_name}\" is '\n",
            "\n",
            "    ValueError: Input 0 of layer \"sequential_3\" is incompatible with the layer: expected shape=(None, 3), found shape=(None, 2)\n",
            "\n",
            "ENter ur line: The Project Gutenberg\n",
            "['The', 'Project', 'Gutenberg']\n",
            "literary\n",
            "ENter ur line: The Project Gutenberg eBook of \n",
            "['eBook', 'of', '']\n",
            "her\n",
            "ENter ur line: eBook of Pride and\n",
            "['of', 'Pride', 'and']\n",
            "impertinence\n",
            "ENter ur line: THERE IS AN \n",
            "['IS', 'AN', '']\n",
            "angel\n",
            "ENter ur line:  Gutenberg eBook of\n",
            "['Gutenberg', 'eBook', 'of']\n",
            "pride\n"
          ]
        }
      ]
    },
    {
      "cell_type": "code",
      "source": [
        ""
      ],
      "metadata": {
        "id": "EnT4nCI-wy0f"
      },
      "execution_count": null,
      "outputs": []
    }
  ]
}